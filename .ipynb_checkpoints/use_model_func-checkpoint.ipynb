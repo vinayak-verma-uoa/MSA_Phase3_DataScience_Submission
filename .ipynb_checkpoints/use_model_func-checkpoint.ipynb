{
 "cells": [
  {
   "cell_type": "markdown",
   "id": "977cb398",
   "metadata": {},
   "source": [
    "## Function for using the model to predict any image"
   ]
  },
  {
   "cell_type": "code",
   "execution_count": 50,
   "id": "487bf43e",
   "metadata": {},
   "outputs": [],
   "source": [
    "# load essential libraries\n",
    "import tensorflow as tf\n",
    "import numpy as np\n",
    "from tensorflow.keras.models import load_model\n",
    "import matplotlib.pyplot as plt\n",
    "from PIL import Image\n",
    "from skimage.color import rgb2gray\n",
    "from skimage.transform import resize"
   ]
  },
  {
   "cell_type": "markdown",
   "id": "6b4cf4f6",
   "metadata": {},
   "source": [
    "# Predict Function"
   ]
  },
  {
   "cell_type": "code",
   "execution_count": 51,
   "id": "b83e8ed8",
   "metadata": {},
   "outputs": [],
   "source": [
    "def predict(relative_img_path):\n",
    "    '''\n",
    "    Predicts the whether there is a cat in a image.\n",
    "    \n",
    "    Input\n",
    "        relative_img_path - path to image file with any dimensions\n",
    "    Output\n",
    "        prediction - percentage of whether there is a cat in image\n",
    "        \n",
    "    Notes\n",
    "        - Only tested using jpeg images\n",
    "    '''\n",
    "    # Load saved model\n",
    "    model = load_model(\"output/my_model\")\n",
    "    \n",
    "    # Open image file using PIL\n",
    "    img = Image.open(relative_img_path)\n",
    "\n",
    "    # Change image to grayscale using scikit-image library\n",
    "    img_recoloured = rgb2gray(img)\n",
    "    \n",
    "    # Resize image using numpy\n",
    "    img_resized = resize(img_recoloured, (32, 32),\n",
    "                           anti_aliasing=True)\n",
    "    \n",
    "    # Reshape image using numpy to become compatible with model input\n",
    "    new_shape = img_resized.reshape(-1, 32, 32)\n",
    "    \n",
    "    prediction = model.predict([new_shape])\n",
    "    \n",
    "    return prediction[0][0]"
   ]
  },
  {
   "cell_type": "markdown",
   "id": "7b2481d1",
   "metadata": {},
   "source": [
    "## Test predicting on own data"
   ]
  },
  {
   "cell_type": "code",
   "execution_count": 52,
   "id": "26f4a44b",
   "metadata": {},
   "outputs": [
    {
     "name": "stdout",
     "output_type": "stream",
     "text": [
      "1/1 [==============================] - 0s 56ms/step\n"
     ]
    },
    {
     "data": {
      "text/plain": [
       "0.22502269"
      ]
     },
     "execution_count": 52,
     "metadata": {},
     "output_type": "execute_result"
    }
   ],
   "source": [
    "predict('random_shape_images/cat.jpg')"
   ]
  }
 ],
 "metadata": {
  "kernelspec": {
   "display_name": "Python 3 (ipykernel)",
   "language": "python",
   "name": "python3"
  },
  "language_info": {
   "codemirror_mode": {
    "name": "ipython",
    "version": 3
   },
   "file_extension": ".py",
   "mimetype": "text/x-python",
   "name": "python",
   "nbconvert_exporter": "python",
   "pygments_lexer": "ipython3",
   "version": "3.9.13"
  }
 },
 "nbformat": 4,
 "nbformat_minor": 5
}
